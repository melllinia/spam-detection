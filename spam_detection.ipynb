{
 "cells": [
  {
   "cell_type": "markdown",
   "id": "22ecec10-ee58-484c-863e-ed98a14961d4",
   "metadata": {},
   "source": [
    "# Spam Detection"
   ]
  },
  {
   "cell_type": "markdown",
   "id": "e12f94dc-2f38-4011-9536-c1b1057c7925",
   "metadata": {},
   "source": [
    "## Initialization"
   ]
  },
  {
   "cell_type": "code",
   "execution_count": 2,
   "id": "6e695076-162f-498c-8616-2f697cee5932",
   "metadata": {},
   "outputs": [],
   "source": [
    "import pandas as pd\n",
    "import numpy as np\n",
    "from sklearn.model_selection import train_test_split"
   ]
  },
  {
   "cell_type": "code",
   "execution_count": 3,
   "id": "8ef2bcd3-6068-49db-b902-6a46e2b0d472",
   "metadata": {},
   "outputs": [],
   "source": [
    "np.random.seed(42)"
   ]
  },
  {
   "cell_type": "code",
   "execution_count": 4,
   "id": "21c0a046-668f-49c5-b11d-96417c805a2b",
   "metadata": {},
   "outputs": [
    {
     "data": {
      "text/html": [
       "<div>\n",
       "<style scoped>\n",
       "    .dataframe tbody tr th:only-of-type {\n",
       "        vertical-align: middle;\n",
       "    }\n",
       "\n",
       "    .dataframe tbody tr th {\n",
       "        vertical-align: top;\n",
       "    }\n",
       "\n",
       "    .dataframe thead th {\n",
       "        text-align: right;\n",
       "    }\n",
       "</style>\n",
       "<table border=\"1\" class=\"dataframe\">\n",
       "  <thead>\n",
       "    <tr style=\"text-align: right;\">\n",
       "      <th></th>\n",
       "      <th>class</th>\n",
       "      <th>email</th>\n",
       "    </tr>\n",
       "  </thead>\n",
       "  <tbody>\n",
       "    <tr>\n",
       "      <th>0</th>\n",
       "      <td>ham</td>\n",
       "      <td>Go until jurong point, crazy.. Available only ...</td>\n",
       "    </tr>\n",
       "    <tr>\n",
       "      <th>1</th>\n",
       "      <td>ham</td>\n",
       "      <td>Ok lar... Joking wif u oni...</td>\n",
       "    </tr>\n",
       "    <tr>\n",
       "      <th>2</th>\n",
       "      <td>spam</td>\n",
       "      <td>Free entry in 2 a wkly comp to win FA Cup fina...</td>\n",
       "    </tr>\n",
       "    <tr>\n",
       "      <th>3</th>\n",
       "      <td>ham</td>\n",
       "      <td>U dun say so early hor... U c already then say...</td>\n",
       "    </tr>\n",
       "    <tr>\n",
       "      <th>4</th>\n",
       "      <td>ham</td>\n",
       "      <td>Nah I don't think he goes to usf, he lives aro...</td>\n",
       "    </tr>\n",
       "    <tr>\n",
       "      <th>...</th>\n",
       "      <td>...</td>\n",
       "      <td>...</td>\n",
       "    </tr>\n",
       "    <tr>\n",
       "      <th>5567</th>\n",
       "      <td>spam</td>\n",
       "      <td>This is the 2nd time we have tried 2 contact u...</td>\n",
       "    </tr>\n",
       "    <tr>\n",
       "      <th>5568</th>\n",
       "      <td>ham</td>\n",
       "      <td>Will Ì_ b going to esplanade fr home?</td>\n",
       "    </tr>\n",
       "    <tr>\n",
       "      <th>5569</th>\n",
       "      <td>ham</td>\n",
       "      <td>Pity, * was in mood for that. So...any other s...</td>\n",
       "    </tr>\n",
       "    <tr>\n",
       "      <th>5570</th>\n",
       "      <td>ham</td>\n",
       "      <td>The guy did some bitching but I acted like i'd...</td>\n",
       "    </tr>\n",
       "    <tr>\n",
       "      <th>5571</th>\n",
       "      <td>ham</td>\n",
       "      <td>Rofl. Its true to its name</td>\n",
       "    </tr>\n",
       "  </tbody>\n",
       "</table>\n",
       "<p>5572 rows × 2 columns</p>\n",
       "</div>"
      ],
      "text/plain": [
       "     class                                              email\n",
       "0      ham  Go until jurong point, crazy.. Available only ...\n",
       "1      ham                      Ok lar... Joking wif u oni...\n",
       "2     spam  Free entry in 2 a wkly comp to win FA Cup fina...\n",
       "3      ham  U dun say so early hor... U c already then say...\n",
       "4      ham  Nah I don't think he goes to usf, he lives aro...\n",
       "...    ...                                                ...\n",
       "5567  spam  This is the 2nd time we have tried 2 contact u...\n",
       "5568   ham              Will Ì_ b going to esplanade fr home?\n",
       "5569   ham  Pity, * was in mood for that. So...any other s...\n",
       "5570   ham  The guy did some bitching but I acted like i'd...\n",
       "5571   ham                         Rofl. Its true to its name\n",
       "\n",
       "[5572 rows x 2 columns]"
      ]
     },
     "execution_count": 4,
     "metadata": {},
     "output_type": "execute_result"
    }
   ],
   "source": [
    "data = pd.read_csv('spam.csv', encoding = 'ISO-8859-1')\n",
    "data = data.iloc[:, :2]\n",
    "data.columns = ['class', 'email']\n",
    "data"
   ]
  },
  {
   "cell_type": "code",
   "execution_count": 5,
   "id": "b0be4001-a4b0-4636-9fdc-53c39430f453",
   "metadata": {},
   "outputs": [],
   "source": [
    "## Taking spam as a positive class prevents misclassifying normal/ham messages as spam, \n",
    "## which could result in important emails being missed or filtered out, leading to a negative user experience\n",
    "\n",
    "data['class'] = data['class'].map({'ham': 0, 'spam': 1})\n",
    "\n",
    "X, y = np.array(data['email']), np.array(data['class'])"
   ]
  },
  {
   "cell_type": "code",
   "execution_count": 6,
   "id": "2c783970-df47-4050-b675-a54f24ffa574",
   "metadata": {},
   "outputs": [],
   "source": [
    "X_train, X_test, y_train, y_test = train_test_split(X, y, test_size=0.2, random_state=42)\n",
    "\n",
    "# additionally splitting training set into true train set and validation set, for model evaluation, \n",
    "# since we assume that we don't have access to test set\n",
    "\n",
    "X_train, X_valid, y_train, y_valid = train_test_split(X_train, y_train, test_size=0.15, random_state=42)"
   ]
  },
  {
   "cell_type": "code",
   "execution_count": 7,
   "id": "8b926d7e-b9f5-4365-88df-b78b6ff800d4",
   "metadata": {},
   "outputs": [],
   "source": [
    "# Removing duplicates from train set\n",
    "\n",
    "unique_texts = set()\n",
    "\n",
    "filtered_X_train = []\n",
    "filtered_y_train = []\n",
    "\n",
    "for text, label in zip(X_train, y_train):\n",
    "    if text not in unique_texts:\n",
    "        unique_texts.add(text)\n",
    "        \n",
    "        filtered_X_train.append(text)\n",
    "        filtered_y_train.append(label)\n",
    "\n",
    "X_train = filtered_X_train\n",
    "y_train = filtered_y_train"
   ]
  },
  {
   "cell_type": "markdown",
   "id": "fb06f9d2-5e74-4b57-8ff5-4ac9d36c7c43",
   "metadata": {},
   "source": [
    "## Text Pre-Processing for Modeling"
   ]
  },
  {
   "cell_type": "code",
   "execution_count": 8,
   "id": "716f87b9-43b8-44e0-a45c-63a885e1cb0e",
   "metadata": {},
   "outputs": [],
   "source": [
    "#!pip3 install spacy\n",
    "#!python3 -m spacy download en_core_web_sm"
   ]
  },
  {
   "cell_type": "code",
   "execution_count": 9,
   "id": "79907f7e-db84-413c-b725-efaf3e240b71",
   "metadata": {},
   "outputs": [],
   "source": [
    "import re\n",
    "import spacy\n",
    "\n",
    "nlp = spacy.load(\"en_core_web_sm\")\n",
    "stop_words = spacy.lang.en.stop_words.STOP_WORDS\n",
    "\n",
    "# Preprocessing function\n",
    "def preprocess_text(X_train):\n",
    "    preprocessed = []\n",
    "    for text in X_train:\n",
    "        tokens = re.findall(r'\\b\\w+\\b', text.lower())\n",
    "        pure_text = [token for token in tokens if token not in stop_words]\n",
    "        preprocessed.append(pure_text)\n",
    "    return preprocessed\n",
    "\n",
    "X_train = preprocess_text(X_train)\n",
    "X_test = preprocess_text(X_test)\n",
    "X_valid = preprocess_text(X_valid)"
   ]
  },
  {
   "cell_type": "code",
   "execution_count": 10,
   "id": "d7bebe2e-286c-49cd-bd47-f79d9a3a5a6f",
   "metadata": {},
   "outputs": [],
   "source": [
    "# Constructing Bag of Words manually\n",
    "\n",
    "word_set = set()\n",
    "for document in X_train:\n",
    "    word_set.update(document)\n",
    "\n",
    "# Creating a vocabulary mapping each word to a unique index\n",
    "word_to_index = {word: index for index, word in enumerate(word_set)}\n",
    "\n",
    "def get_bag_of_words(texts):\n",
    "    numeric_texts = []\n",
    "    for text in texts:\n",
    "        bow_vector = [0] * len(word_set)\n",
    "        for word in text:\n",
    "            if word in word_to_index:\n",
    "                bow_vector[word_to_index[word]] += 1\n",
    "        numeric_texts.append(bow_vector)\n",
    "    return numeric_texts\n",
    "    \n",
    "X_train_numeric = np.array(get_bag_of_words(X_train))\n",
    "X_test_numeric = np.array(get_bag_of_words(X_test))\n",
    "X_valid_numeric = np.array(get_bag_of_words(X_valid))"
   ]
  },
  {
   "cell_type": "markdown",
   "id": "633cef9c-2ea0-463c-a406-aa60daf290a0",
   "metadata": {},
   "source": [
    "## Model Evaluation\n",
    "\n",
    "- Logistic Regression\n",
    "- Naive Bayes"
   ]
  },
  {
   "cell_type": "code",
   "execution_count": 11,
   "id": "461806be-bb01-413b-9612-b3855fe27afd",
   "metadata": {},
   "outputs": [
    {
     "name": "stdout",
     "output_type": "stream",
     "text": [
      "Logistic Regression\n",
      "Training F1 Score: 0.987012987012987\n",
      "Validation F1 Score: 0.9078947368421053\n"
     ]
    }
   ],
   "source": [
    "from sklearn.linear_model import LogisticRegression\n",
    "from sklearn.metrics import f1_score\n",
    "\n",
    "clf = LogisticRegression(random_state=42).fit(X_train_numeric, y_train)\n",
    "\n",
    "y_pred_train = clf.predict(X_train_numeric)\n",
    "y_pred_valid = clf.predict(X_valid_numeric)\n",
    "\n",
    "f1_train = f1_score(y_train, y_pred_train)\n",
    "f1_valid = f1_score(y_valid, y_pred_valid)\n",
    "\n",
    "print(\"Logistic Regression\")\n",
    "print(\"Training F1 Score:\", f1_train)\n",
    "print(\"Validation F1 Score:\", f1_valid)"
   ]
  },
  {
   "cell_type": "code",
   "execution_count": 12,
   "id": "dbccadc8-ab43-48e6-9138-93ffe4ffc31d",
   "metadata": {},
   "outputs": [
    {
     "name": "stdout",
     "output_type": "stream",
     "text": [
      "Multinomial Naive Bayes\n",
      "Training F1 Score: 0.9850746268656716\n",
      "Validation F1 Score: 0.9308176100628931\n"
     ]
    }
   ],
   "source": [
    "from sklearn.naive_bayes import MultinomialNB\n",
    "\n",
    "nb_classifier = MultinomialNB()\n",
    "nb_classifier.fit(X_train_numeric, y_train)\n",
    "\n",
    "y_pred_train = nb_classifier.predict(X_train_numeric)\n",
    "y_pred_valid = nb_classifier.predict(X_valid_numeric)\n",
    "\n",
    "f1_train = f1_score(y_train, y_pred_train)\n",
    "f1_valid = f1_score(y_valid, y_pred_valid)\n",
    "\n",
    "print(\"Multinomial Naive Bayes\")\n",
    "print(\"Training F1 Score:\", f1_train)\n",
    "print(\"Validation F1 Score:\", f1_valid)"
   ]
  },
  {
   "cell_type": "code",
   "execution_count": 13,
   "id": "e3320207-68fd-4624-a404-2c048f57f297",
   "metadata": {},
   "outputs": [
    {
     "name": "stdout",
     "output_type": "stream",
     "text": [
      "Multinomial Naive Bayes\n",
      "Test F1 Score: 0.9383561643835616\n"
     ]
    }
   ],
   "source": [
    "y_pred_test = nb_classifier.predict(X_test_numeric)\n",
    "\n",
    "f1_test = f1_score(y_test, y_pred_test)\n",
    "\n",
    "print(\"Multinomial Naive Bayes\")\n",
    "print(\"Test F1 Score:\", f1_test)"
   ]
  },
  {
   "cell_type": "markdown",
   "id": "89d121b5-fd0d-45d3-bc85-3901e10e333f",
   "metadata": {},
   "source": [
    "## Summary\n",
    "\n",
    "Multinomial Naive Bayes was chosen as the final algorithm, despite the fact that logistic regression had a higher F1 score on the training set. The reason for this choice is that Multinomial NB exhibited a higher F1 score on the validation set."
   ]
  }
 ],
 "metadata": {
  "kernelspec": {
   "display_name": "Python 3 (ipykernel)",
   "language": "python",
   "name": "python3"
  },
  "language_info": {
   "codemirror_mode": {
    "name": "ipython",
    "version": 3
   },
   "file_extension": ".py",
   "mimetype": "text/x-python",
   "name": "python",
   "nbconvert_exporter": "python",
   "pygments_lexer": "ipython3",
   "version": "3.12.3"
  }
 },
 "nbformat": 4,
 "nbformat_minor": 5
}
